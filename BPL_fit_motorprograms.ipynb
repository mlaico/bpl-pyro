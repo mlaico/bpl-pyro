{
 "cells": [
  {
   "cell_type": "code",
   "execution_count": 15,
   "metadata": {
    "collapsed": true
   },
   "outputs": [],
   "source": [
    "import torch\n",
    "from torch.autograd import Variable\n",
    "\n",
    "import pyro\n",
    "import pyro.distributions as dist\n",
    "\n",
    "import pandas as pd"
   ]
  },
  {
   "cell_type": "markdown",
   "metadata": {},
   "source": [
    " ![alt text][score_shape]\n",
    "\n",
    "[score_shape]: https://lh4.googleusercontent.com/12awPZz9JIqi3f1ZpflLNIkY9B9OuaPAVei8jFxQO0tkCFrcM1mqOQ91GGGtTC6e7t394EmfV3YBoXbpi5Wi=w1723-h903 \"Logo Title Text 2\""
   ]
  },
  {
   "cell_type": "code",
   "execution_count": 52,
   "metadata": {},
   "outputs": [
    {
     "name": "stdout",
     "output_type": "stream",
     "text": [
      "\n",
      "-8.8989e-01 -8.1563e-02  1.7925e-01  ...   1.5892e-02 -2.4715e+01 -5.8157e+01\n",
      "-5.8254e+01 -2.4706e+01  2.8484e-02  ...   1.8280e-02  4.6830e-02 -4.1432e-01\n",
      "-9.9240e-01 -6.6547e-02  9.3121e-02  ...   1.7826e-04 -2.4971e+01 -5.7718e+01\n",
      "                ...                   ⋱                   ...                \n",
      "-5.7025e+01 -3.5826e+01  2.7095e+00  ...  -2.3326e+00  8.8443e+00  4.9193e+01\n",
      "-5.3821e+01 -3.1358e+01  5.1966e+00  ...   1.5660e+01 -1.2280e+01 -1.7529e+01\n",
      "-6.0206e+01 -2.0699e+01 -3.4873e+00  ...   6.5748e+00  1.0204e+01 -3.9916e+00\n",
      "[torch.DoubleTensor of size 1212x10]\n",
      "\n",
      "\n",
      "  5.9153   4.3751   3.9709  ...    3.4019   3.4319   3.4197\n",
      "  3.4289   3.4606   3.4034  ...    4.0249   4.4095   6.4980\n",
      "  5.6651   4.0861   3.8105  ...    3.3908   3.4385   3.4257\n",
      "           ...               ⋱              ...            \n",
      "  3.8974   3.8161   4.0733  ...    4.9394   5.7157   8.4281\n",
      "  5.6765   4.9738   9.3247  ...   21.2590   9.0602  29.3730\n",
      "  3.3981   5.3955   4.4577  ...    4.8801   6.5858   5.7864\n",
      "[torch.DoubleTensor of size 1212x10]\n",
      "\n",
      "\n",
      "-5.7349e+01 -2.4896e+01 -1.4400e-14  ...  -4.6278e-01  1.4269e+00  2.3493e+00\n",
      "-5.7349e+01 -2.4896e+01 -1.4400e-14  ...  -4.6278e-01  1.4269e+00  2.3493e+00\n",
      "-5.7349e+01 -2.4896e+01 -1.4400e-14  ...  -4.6278e-01  1.4269e+00  2.3493e+00\n",
      "                ...                   ⋱                   ...                \n",
      "-5.7349e+01 -2.4896e+01 -1.4400e-14  ...  -4.6278e-01  1.4269e+00  2.3493e+00\n",
      "-5.7349e+01 -2.4896e+01 -1.4400e-14  ...  -4.6278e-01  1.4269e+00  2.3493e+00\n",
      "-5.7349e+01 -2.4896e+01 -1.4400e-14  ...  -4.6278e-01  1.4269e+00  2.3493e+00\n",
      "[torch.DoubleTensor of size 1212x10]\n",
      "\n"
     ]
    }
   ],
   "source": [
    "#load in csv data into pandas DataFrame object\n",
    "mymu_frame = pd.read_csv('mymu.csv')\n",
    "mysd_frame = pd.read_csv('mysd.csv')\n",
    "vbspline_frame = pd.read_csv('vbspline.csv')\n",
    "\n",
    "#print(mymu_frame)\n",
    "#print(mysd_frame)\n",
    "#print(vbspline_frame)\n",
    "\n",
    "# DataFrame to numpy array\n",
    "mymu_numpy = mymu_frame.iloc[:,:].as_matrix().astype('double')\n",
    "mysd_numpy = mysd_frame.iloc[:,:].as_matrix().astype('double')\n",
    "vbspline_numpy = vbspline_frame.iloc[:,:].as_matrix().astype('double')\n",
    "\n",
    "#Numpy array to Torch Tensor\n",
    "mymu = torch.from_numpy(mymu_numpy)\n",
    "mysd = torch.from_numpy(mysd_numpy)\n",
    "vbspline = torch.from_numpy(vbspline_numpy)\n",
    "\n",
    "print(mymu)\n",
    "print(mysd)\n",
    "print(vbspline)\n"
   ]
  },
  {
   "cell_type": "code",
   "execution_count": 53,
   "metadata": {},
   "outputs": [
    {
     "name": "stdout",
     "output_type": "stream",
     "text": [
      "Variable containing:\n",
      "  -1.8461   -2.0549    1.5245  ...    -3.0019  -25.7966  -63.8714\n",
      " -51.9650  -22.1088   -2.4277  ...    -8.4538    0.6314   -4.8336\n",
      "  -5.6623   -1.4530   -1.9855  ...    -1.9968  -26.7546  -53.3757\n",
      "             ...                ⋱                ...             \n",
      " -56.5770  -34.4583    7.5454  ...    -0.8801    8.7837   56.9219\n",
      " -49.4898  -42.4833    0.3434  ...    21.6414   -3.0490  -34.7336\n",
      " -59.3917  -22.1510   -6.5130  ...     0.7255    1.6186   -7.4598\n",
      "[torch.DoubleTensor of size 1212x10]\n",
      "\n"
     ]
    }
   ],
   "source": [
    "mu = Variable(mymu) \n",
    "sigma = Variable(mysd) # unit variance\n",
    "x = dist.normal(mu, sigma)      # x is a sample from N(0,1)\n",
    "print(x)"
   ]
  },
  {
   "cell_type": "code",
   "execution_count": 55,
   "metadata": {},
   "outputs": [
    {
     "name": "stdout",
     "output_type": "stream",
     "text": [
      "Variable containing:\n",
      " -515.1789\n",
      "  -23.6912\n",
      " -523.4641\n",
      "     ⋮     \n",
      "  -52.9617\n",
      "  -38.6488\n",
      "  -30.3567\n",
      "[torch.DoubleTensor of size 1212x1]\n",
      "\n"
     ]
    }
   ],
   "source": [
    "vbspline = Variable(vbspline)\n",
    "log_p_x = dist.normal.batch_log_pdf(vbspline, mu, sigma)\n",
    "print(log_p_x)"
   ]
  }
 ],
 "metadata": {
  "kernelspec": {
   "display_name": "Python 3",
   "language": "python",
   "name": "python3"
  },
  "language_info": {
   "codemirror_mode": {
    "name": "ipython",
    "version": 3
   },
   "file_extension": ".py",
   "mimetype": "text/x-python",
   "name": "python",
   "nbconvert_exporter": "python",
   "pygments_lexer": "ipython3",
   "version": "3.6.3"
  }
 },
 "nbformat": 4,
 "nbformat_minor": 2
}
