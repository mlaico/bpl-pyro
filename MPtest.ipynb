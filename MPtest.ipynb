{
 "cells": [
  {
   "cell_type": "markdown",
   "metadata": {},
   "source": [
    "### Score a MotorProgram"
   ]
  },
  {
   "cell_type": "code",
   "execution_count": null,
   "metadata": {
    "collapsed": true
   },
   "outputs": [],
   "source": [
    "import importlib\n",
    "\n",
    "import numpy as np\n",
    "\n",
    "import torch\n",
    "from torch.autograd import Variable\n",
    "\n",
    "import pyro\n",
    "import pyro.distributions as dist\n",
    "\n",
    "import pandas as pd\n",
    "\n",
    "import matlab.engine"
   ]
  },
  {
   "cell_type": "code",
   "execution_count": null,
   "metadata": {},
   "outputs": [],
   "source": [
    "# My classes\n",
    "import MotorProgram as mpr\n",
    "import Stroke as stk\n",
    "import CPD as cpd\n",
    "import Library as lbr\n",
    "import ScoreMP as smp\n",
    "import MyUtils as myu"
   ]
  },
  {
   "cell_type": "code",
   "execution_count": null,
   "metadata": {},
   "outputs": [],
   "source": [
    "# Reload my class modules quickly (avoids restarting kernel)\n",
    "importlib.reload(mpr);\n",
    "importlib.reload(stk);\n",
    "importlib.reload(cpd);\n",
    "importlib.reload(lbr);\n",
    "importlib.reload(smp);\n",
    "importlib.reload(myu);"
   ]
  },
  {
   "cell_type": "code",
   "execution_count": null,
   "metadata": {
    "collapsed": true
   },
   "outputs": [],
   "source": [
    "# Connect to existing matlab session (requires running 'matlab.engine.shareEngine' in matlab)\n",
    "eng = matlab.engine.connect_matlab()  \n",
    "\n",
    "# Or, start new matlab session\n",
    "#eng = matlab.engine.start_matlab()"
   ]
  },
  {
   "cell_type": "code",
   "execution_count": null,
   "metadata": {},
   "outputs": [],
   "source": [
    "# Return motorprogram from bottom-up process in matlab engine\n",
    "mp_m = eng.parse2python()\n",
    "\n",
    "# Load distr/param library from matlab engine\n",
    "lib_m = eng.loadlib2py()\n"
   ]
  },
  {
   "cell_type": "code",
   "execution_count": null,
   "metadata": {},
   "outputs": [],
   "source": [
    "# Copy matlab data into MotorProgram and Library objects\n",
    "\n",
    "# initial with mp.ns: # of strokes\n",
    "mp = mpr.MotorProgram(int(mp_m['ns'])) \n",
    "\n",
    "# mp.S: array of Stroke objects\n",
    "for i in range(0,mp.ns):\n",
    "    mp.S.append(stk.Stroke())\n",
    "    mp.S[i].R = myu.mat2tensor(mp_m['S'+str(i+1)+'_R'])\n",
    "    mp.S[i].ids = myu.mat2tensor(mp_m['S'+str(i+1)+'_ids'])\n",
    "    mp.S[i].invscales_type = myu.mat2tensor(mp_m['S'+str(i+1)+'_invscales_type'])\n",
    "    mp.S[i].shapes_type = myu.mat2tensor(mp_m['S1_shapes_type'])\n",
    "    mp.S[i].nsub = mp_m['S'+str(i+1)+'_nsub']\n",
    "    mp.S[i].motor = myu.mat2tensor(mp_m['S'+str(i+1)+'_motor'])\n",
    "    mp.S[i].motor_spline = myu.mat2tensor(mp_m['S'+str(i+1)+'_motor_spline'])\n",
    "    \n",
    "# lib.pkappa: probability of each number of strokes (starts at 1)\n",
    "lib = lbr.Library()\n",
    "lib.pkappa = myu.mat2tensor(lib_m['pkappa'])\n",
    "lib.pmat_nsub = myu.mat2tensor(lib_m['pmatnsub'])\n",
    "lib.N = lib_m['N']"
   ]
  },
  {
   "cell_type": "code",
   "execution_count": null,
   "metadata": {},
   "outputs": [],
   "source": [
    "# Score a MotorProgram\n",
    "score = smp.scoreMP(mp, lib)\n",
    "\n",
    "print(score)"
   ]
  },
  {
   "cell_type": "code",
   "execution_count": null,
   "metadata": {
    "collapsed": true
   },
   "outputs": [],
   "source": []
  }
 ],
 "metadata": {
  "kernelspec": {
   "display_name": "Python 3",
   "language": "python",
   "name": "python3"
  },
  "language_info": {
   "codemirror_mode": {
    "name": "ipython",
    "version": 3
   },
   "file_extension": ".py",
   "mimetype": "text/x-python",
   "name": "python",
   "nbconvert_exporter": "python",
   "pygments_lexer": "ipython3",
   "version": "3.6.3"
  }
 },
 "nbformat": 4,
 "nbformat_minor": 2
}
